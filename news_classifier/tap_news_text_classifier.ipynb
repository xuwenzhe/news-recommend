{
  "nbformat": 4,
  "nbformat_minor": 0,
  "metadata": {
    "colab": {
      "name": "tap-news-text-classifier.ipynb",
      "version": "0.3.2",
      "provenance": [],
      "collapsed_sections": []
    },
    "kernelspec": {
      "name": "python3",
      "display_name": "Python 3"
    },
    "accelerator": "GPU"
  },
  "cells": [
    {
      "metadata": {
        "id": "BeAKpV3zIOZ5",
        "colab_type": "text"
      },
      "cell_type": "markdown",
      "source": [
        "## 1. Download `Glove` dataset and `news20` dataset"
      ]
    },
    {
      "metadata": {
        "id": "UJJyizzx-ooc",
        "colab_type": "code",
        "colab": {}
      },
      "cell_type": "code",
      "source": [
        "import os\n",
        "import sys\n",
        "import numpy as np\n",
        "from keras.preprocessing.text import Tokenizer\n",
        "from keras.preprocessing.sequence import pad_sequences\n",
        "from keras.utils import to_categorical # https://stackoverflow.com/a/43314437\n",
        "from keras.layers import Dense, Input, GlobalMaxPooling1D\n",
        "from keras.layers import Conv1D, MaxPooling1D, Embedding\n",
        "from keras.models import Model\n",
        "from keras.initializers import Constant\n",
        "\n",
        "import matplotlib.pyplot as plt\n",
        "plt.style.use('ggplot')\n",
        "\n",
        "def plot_history(history):\n",
        "    acc = history.history['acc']\n",
        "    val_acc = history.history['val_acc']\n",
        "    loss = history.history['loss']\n",
        "    val_loss = history.history['val_loss']\n",
        "    x = range(1, len(acc) + 1)\n",
        "\n",
        "    plt.figure(figsize=(12, 5))\n",
        "    plt.subplot(1, 2, 1)\n",
        "    plt.plot(x, acc, 'b', label='Training acc')\n",
        "    plt.plot(x, val_acc, 'r', label='Validation acc')\n",
        "    plt.title('Training and validation accuracy')\n",
        "    plt.legend()\n",
        "    plt.subplot(1, 2, 2)\n",
        "    plt.plot(x, loss, 'b', label='Training loss')\n",
        "    plt.plot(x, val_loss, 'r', label='Validation loss')\n",
        "    plt.title('Training and validation loss')\n",
        "    plt.legend()\n",
        "    \n",
        "\n",
        "# Download glove data, unzip glove.6B.zip/glove.6B.100d.txt into glove.6B folder\n",
        "# https://askubuntu.com/a/520555\n",
        "!rm -rf ./*\n",
        "!wget http://nlp.stanford.edu/data/glove.6B.zip\n",
        "!unzip glove.6B.zip\n",
        "!mkdir glove.6B\n",
        "!mv glove.6B.100d.txt ./glove.6B\n",
        "!rm *.txt *.zip\n",
        "# Download news20 data, unzip news20.tar.gz/\n",
        "!wget http://www.cs.cmu.edu/afs/cs.cmu.edu/project/theo-20/www/data/news20.tar.gz\n",
        "!tar -xvzf news20.tar.gz\n",
        "!rm *.tar.gz"
      ],
      "execution_count": 0,
      "outputs": []
    },
    {
      "metadata": {
        "id": "DAof34kXV_kN",
        "colab_type": "code",
        "colab": {
          "base_uri": "https://localhost:8080/",
          "height": 63
        },
        "outputId": "2b181030-c0b3-4411-90cd-73929c6dfe88"
      },
      "cell_type": "code",
      "source": [
        "!ls"
      ],
      "execution_count": 2,
      "outputs": [
        {
          "output_type": "stream",
          "text": [
            "20_newsgroup  glove.6B\n"
          ],
          "name": "stdout"
        }
      ]
    },
    {
      "metadata": {
        "id": "TJn99CuOIdJO",
        "colab_type": "text"
      },
      "cell_type": "markdown",
      "source": [
        "## 2. Config dataset path"
      ]
    },
    {
      "metadata": {
        "id": "Lnrnov1XBYxk",
        "colab_type": "code",
        "colab": {}
      },
      "cell_type": "code",
      "source": [
        "# config file path\n",
        "BASE_DIR = './'\n",
        "GLOVE_DIR = os.path.join(BASE_DIR, 'glove.6B')\n",
        "TEXT_DATA_DIR = os.path.join(BASE_DIR, '20_newsgroup')"
      ],
      "execution_count": 0,
      "outputs": []
    },
    {
      "metadata": {
        "id": "Ha7WD0IvIJU_",
        "colab_type": "text"
      },
      "cell_type": "markdown",
      "source": [
        "## 3. Preparing the text data"
      ]
    },
    {
      "metadata": {
        "id": "AK582A18B1Z0",
        "colab_type": "code",
        "colab": {
          "base_uri": "https://localhost:8080/",
          "height": 85
        },
        "outputId": "e7722ccd-1298-44f0-902d-8edf6780317f"
      },
      "cell_type": "code",
      "source": [
        "# first build index mapping words in the embeddings set\n",
        "# to their embedding vector\n",
        "\n",
        "print('Indexing word vectors.')\n",
        "embeddings_index = {}\n",
        "with open(os.path.join(GLOVE_DIR, 'glove.6B.100d.txt')) as f:\n",
        "  for line in f:\n",
        "    word, coefs = line.split(maxsplit=1)\n",
        "    coefs = np.fromstring(coefs, 'f', sep=' ')\n",
        "    embeddings_index[word] = coefs\n",
        "    \n",
        "print('Found %s word vectors.' % len(embeddings_index))\n",
        "\n",
        "\n",
        "\n",
        "# Second, prepare text samples and their labels\n",
        "print('Processing text dataset')\n",
        "texts = [] # list of text samples\n",
        "labels_index = {} # dictionary mapping label name to numeric id\n",
        "labels = [] # list of label ids\n",
        "for name in sorted(os.listdir(TEXT_DATA_DIR)):\n",
        "  path = os.path.join(TEXT_DATA_DIR, name)\n",
        "  if os.path.isdir(path):\n",
        "    label_id = len(labels_index)\n",
        "    labels_index[name] = label_id\n",
        "    for fname in sorted(os.listdir(path)):\n",
        "      if fname.isdigit():\n",
        "        fpath = os.path.join(path, fname)\n",
        "        args = {} if sys.version_info < (3,) else {'encoding': 'latin-1'}\n",
        "        with open(fpath, **args) as f:\n",
        "          t = f.read()\n",
        "          i = t.find('\\n\\n') # skip header\n",
        "          if 0 < i:\n",
        "            t = t[i:]\n",
        "          texts.append(t)\n",
        "        labels.append(label_id)\n",
        "        \n",
        "print('Found %s texts.' % len(texts))"
      ],
      "execution_count": 4,
      "outputs": [
        {
          "output_type": "stream",
          "text": [
            "Indexing word vectors.\n",
            "Found 400000 word vectors.\n",
            "Processing text dataset\n",
            "Found 19997 texts.\n"
          ],
          "name": "stdout"
        }
      ]
    },
    {
      "metadata": {
        "id": "XM1yc7b4KAE_",
        "colab_type": "text"
      },
      "cell_type": "markdown",
      "source": [
        "## 4. Format text samples and labels"
      ]
    },
    {
      "metadata": {
        "id": "skOcDpnSFgBg",
        "colab_type": "code",
        "colab": {
          "base_uri": "https://localhost:8080/",
          "height": 68
        },
        "outputId": "5885cfa3-6f72-4906-d2f2-11cffcc0bee2"
      },
      "cell_type": "code",
      "source": [
        "\n",
        "\n",
        "# config feature dimensions\n",
        "MAX_SEQUENCE_LENGTH = 1000 # truncate the sequences to a maximum length of 1000\n",
        "MAX_NUM_WORDS = 20000 # top 20,000 most commonly occuring words in the dataset\n",
        "VALIDATION_SPLIT = 0.2\n",
        "\n",
        "tokenizer = Tokenizer(num_words=MAX_NUM_WORDS)\n",
        "tokenizer.fit_on_texts(texts)\n",
        "sequences = tokenizer.texts_to_sequences(texts)\n",
        "\n",
        "word_index = tokenizer.word_index\n",
        "print('Round %s unique tokens.' % len(word_index))\n",
        "\n",
        "data = pad_sequences(sequences, maxlen=MAX_SEQUENCE_LENGTH)\n",
        "\n",
        "labels = to_categorical(np.asarray(labels))\n",
        "\n",
        "print('Shape of data tensor:', data.shape)\n",
        "print('Shape of label tensor:', labels.shape)\n",
        "\n",
        "# split the data into a training set and a validation set\n",
        "indices = np.arange(data.shape[0])\n",
        "np.random.shuffle(indices)\n",
        "data = data[indices]\n",
        "labels = labels[indices]\n",
        "\n",
        "num_validation_samples = int(VALIDATION_SPLIT * data.shape[0])\n",
        "\n",
        "x_train = data[:-num_validation_samples]\n",
        "y_train = labels[:-num_validation_samples]\n",
        "x_val = data[-num_validation_samples:]\n",
        "y_val = labels[-num_validation_samples:]"
      ],
      "execution_count": 5,
      "outputs": [
        {
          "output_type": "stream",
          "text": [
            "Round 174074 unique tokens.\n",
            "Shape of data tensor: (19997, 1000)\n",
            "Shape of label tensor: (19997, 20)\n"
          ],
          "name": "stdout"
        }
      ]
    },
    {
      "metadata": {
        "id": "4i78_9PcOJJ_",
        "colab_type": "text"
      },
      "cell_type": "markdown",
      "source": [
        "## 5. Preparing the embedding layer"
      ]
    },
    {
      "metadata": {
        "id": "-OAhHMGWI8By",
        "colab_type": "code",
        "colab": {
          "base_uri": "https://localhost:8080/",
          "height": 34
        },
        "outputId": "fa1f8381-edeb-42b9-ed0e-c2154f648426"
      },
      "cell_type": "code",
      "source": [
        "print('Preparing embedding matrix.')\n",
        "EMBEDDING_DIM = 100\n",
        "\n",
        "num_words = min(MAX_NUM_WORDS, len(word_index)) + 1\n",
        "embedding_matrix = np.zeros((num_words, EMBEDDING_DIM))\n",
        "for word, i in word_index.items():\n",
        "  if i > MAX_NUM_WORDS:\n",
        "    continue\n",
        "  embedding_vector = embeddings_index.get(word)\n",
        "  if embedding_vector is not None:\n",
        "    # words not found in embedding index will be all-zero.\n",
        "    embedding_matrix[i] = embedding_vector\n",
        "\n",
        "# load pre-trained word embeddings into an Embedding layer\n",
        "# note that we set trainable = False so as to keep the embeddings fixed\n",
        "embedding_layer = Embedding(num_words,\n",
        "                           EMBEDDING_DIM,\n",
        "                           embeddings_initializer=Constant(embedding_matrix),\n",
        "                           input_length=MAX_SEQUENCE_LENGTH,\n",
        "                           trainable=False)"
      ],
      "execution_count": 6,
      "outputs": [
        {
          "output_type": "stream",
          "text": [
            "Preparing embedding matrix.\n"
          ],
          "name": "stdout"
        }
      ]
    },
    {
      "metadata": {
        "id": "pg7O-EsUXoPK",
        "colab_type": "text"
      },
      "cell_type": "markdown",
      "source": [
        "## 6. Train model"
      ]
    },
    {
      "metadata": {
        "id": "T__4Rr9BMMoa",
        "colab_type": "code",
        "colab": {
          "base_uri": "https://localhost:8080/",
          "height": 745
        },
        "outputId": "9e2c8a08-2d67-446a-c15d-475fc5a3c229"
      },
      "cell_type": "code",
      "source": [
        "print('Training model.')\n",
        "sequence_input = Input(shape=(MAX_SEQUENCE_LENGTH,), dtype='int32')\n",
        "embedded_sequences = embedding_layer(sequence_input)\n",
        "\n",
        "x = Conv1D(128, 5, activation='relu')(embedded_sequences)\n",
        "x = MaxPooling1D(5)(x)\n",
        "x = Conv1D(128, 5, activation='relu')(x)\n",
        "x = MaxPooling1D(5)(x)\n",
        "x = Conv1D(128, 5, activation='relu')(x)\n",
        "x = GlobalMaxPooling1D()(x)\n",
        "x = Dense(128, activation='relu')(x)\n",
        "preds = Dense(len(labels_index), activation='softmax')(x)\n",
        "\n",
        "model = Model(sequence_input, preds)\n",
        "model.compile(loss='categorical_crossentropy',\n",
        "              optimizer='rmsprop',\n",
        "              metrics=['acc'])\n",
        "\n",
        "history = model.fit(x_train, y_train,\n",
        "                    batch_size=128,\n",
        "                    epochs=10,\n",
        "                    validation_data=(x_val, y_val))\n",
        "\n",
        "loss, accuracy = model.evaluate(x_train, y_train, verbose=False)\n",
        "print('Training Accuracy: {:.4f}'.format(accuracy))\n",
        "loss, accuracy = model.evaluate(x_val, y_val, verbose=False)\n",
        "print('Validation Accuracy: {:.4f}'.format(accuracy))\n",
        "\n",
        "plot_history(history)"
      ],
      "execution_count": 9,
      "outputs": [
        {
          "output_type": "stream",
          "text": [
            "Training model.\n",
            "Train on 15998 samples, validate on 3999 samples\n",
            "Epoch 1/10\n",
            "15998/15998 [==============================] - 4s 225us/step - loss: 2.4422 - acc: 0.2001 - val_loss: 1.7430 - val_acc: 0.4049\n",
            "Epoch 2/10\n",
            "15998/15998 [==============================] - 3s 203us/step - loss: 1.5643 - acc: 0.4547 - val_loss: 1.2820 - val_acc: 0.5746\n",
            "Epoch 3/10\n",
            "15998/15998 [==============================] - 3s 203us/step - loss: 1.1818 - acc: 0.5954 - val_loss: 1.1611 - val_acc: 0.5964\n",
            "Epoch 4/10\n",
            "15998/15998 [==============================] - 3s 205us/step - loss: 0.9775 - acc: 0.6662 - val_loss: 1.0749 - val_acc: 0.6469\n",
            "Epoch 5/10\n",
            "15998/15998 [==============================] - 3s 204us/step - loss: 0.8209 - acc: 0.7193 - val_loss: 0.9912 - val_acc: 0.6874\n",
            "Epoch 6/10\n",
            "15998/15998 [==============================] - 3s 206us/step - loss: 0.6980 - acc: 0.7658 - val_loss: 0.9672 - val_acc: 0.6824\n",
            "Epoch 7/10\n",
            "15998/15998 [==============================] - 3s 208us/step - loss: 0.5938 - acc: 0.8000 - val_loss: 0.8238 - val_acc: 0.7422\n",
            "Epoch 8/10\n",
            "15998/15998 [==============================] - 3s 208us/step - loss: 0.5093 - acc: 0.8234 - val_loss: 1.0503 - val_acc: 0.6824\n",
            "Epoch 9/10\n",
            "15998/15998 [==============================] - 3s 210us/step - loss: 0.4260 - acc: 0.8562 - val_loss: 0.9632 - val_acc: 0.7097\n",
            "Epoch 10/10\n",
            "15998/15998 [==============================] - 3s 211us/step - loss: 0.3688 - acc: 0.8745 - val_loss: 0.9552 - val_acc: 0.7199\n",
            "Training Accuracy: 0.8983\n",
            "Validation Accuracy: 0.7199\n"
          ],
          "name": "stdout"
        },
        {
          "output_type": "display_data",
          "data": {
            "image/png": "[encoded data removed]",
            "text/plain": [
              "<Figure size 864x360 with 2 Axes>"
            ]
          },
          "metadata": {
            "tags": []
          }
        }
      ]
    },
    {
      "metadata": {
        "id": "HWQLbYHMbcyD",
        "colab_type": "text"
      },
      "cell_type": "markdown",
      "source": [
        "## 7. Predict"
      ]
    },
    {
      "metadata": {
        "id": "LDYMDsy6bGog",
        "colab_type": "code",
        "colab": {
          "base_uri": "https://localhost:8080/",
          "height": 34
        },
        "outputId": "2b86f3c1-4b48-46bc-8e0b-59c722bad800"
      },
      "cell_type": "code",
      "source": [
        "labels_index_2_labels_name = {labels_index[label]: label for label in labels_index}\n",
        "\n",
        "def news_classifier(news_list):\n",
        "  sequences = tokenizer.texts_to_sequences(news_list)\n",
        "  data = pad_sequences(sequences, maxlen=MAX_SEQUENCE_LENGTH)\n",
        "  predictions = model.predict(data)\n",
        "  return predictions\n",
        "\n",
        "news1 = \"With strikeouts piling up, scoring plummeting, attendance falling and games often descending into all-or-nothing bores, it's no wonder that some people are calling for radical change to baseball. The sport faced a similar challenge 50 years ago, dogged by a scoring depression and lagging fan interest. In response, baseball's rules committee lowered the pitcher's mound 5 inches and tightened the strike zone, making it harder for pitchers to dominate the game. That sparked more scoring the next season — and more exciting games for fans.\"\n",
        "news2 = \"This week, scientists discovered the interstellar origins of a meteor that crashed into Earth in 2014, and DNA was extracted from the bones of 13th-century soldiers who fought in the Crusades. A NASA study determined that when meteorites strike the moon, they cause water plumes to shoot into space. The first molecule produced by the Big Bang has finally been found in space. And one of the largest carnivorous mammals to ever walk the Earth was discovered. NASA astronaut Christina Koch is also aiming to hold the record for longest single spaceflight by a woman. Here's what you missed this week in space and science\"\n",
        "news3 = \"It looks like a Bluetooth hands-free device, but bitescan is actually measuring your chewing strokes as you eat. Hung from the ear, it is smaller and lighter than existing bite counters (they're normally attached to the chin) and can determine a user's bite speed, number of bites per minute and type of bite using a waveform detected on the back of the ear. Sharp has somewhat gamified the concept: the device syncs up to a smartphone app which categorizes results by animal type i.e. slow chewers are tortoises.\"\n",
        "\n",
        "news_list_test = [news1, news2, news3]\n",
        "\n",
        "predictions = news_classifier(news_list_test)\n",
        "news_list_test_predictions = [labels_index_2_labels_name[np.argmax(prob)] for prob in predictions]\n",
        "print(news_list_test_predictions)\n"
      ],
      "execution_count": 27,
      "outputs": [
        {
          "output_type": "stream",
          "text": [
            "['rec.sport.baseball', 'sci.space', 'sci.med']\n"
          ],
          "name": "stdout"
        }
      ]
    },
    {
      "metadata": {
        "id": "F3j59jgWiYTl",
        "colab_type": "text"
      },
      "cell_type": "markdown",
      "source": [
        "## 8. Save to local"
      ]
    },
    {
      "metadata": {
        "id": "DxAB-c__iVZX",
        "colab_type": "code",
        "colab": {}
      },
      "cell_type": "code",
      "source": [
        "model.save('news_classifier_v1.h5')"
      ],
      "execution_count": 0,
      "outputs": []
    },
    {
      "metadata": {
        "id": "CVbcjqyueuZo",
        "colab_type": "code",
        "colab": {}
      },
      "cell_type": "code",
      "source": [
        "from google.colab import files\n",
        "files.download('news_classifier_v1.h5')\n",
        "\n"
      ],
      "execution_count": 0,
      "outputs": []
    },
    {
      "metadata": {
        "id": "s_9Vsv-jlh6p",
        "colab_type": "code",
        "colab": {}
      },
      "cell_type": "code",
      "source": [
        ""
      ],
      "execution_count": 0,
      "outputs": []
    }
  ]
}